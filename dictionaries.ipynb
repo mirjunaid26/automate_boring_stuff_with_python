{
 "cells": [
  {
   "cell_type": "markdown",
   "metadata": {},
   "source": [
    "## Dictionaries and Structuring Data\n",
    "Like a list, a dictionary is a mutable collection of many values. Unline indexes for lists, indexes for dictionaries can use many different data types,not just integers Indexes for dictionaries are called, keys, and a key with its associated values is called a key-value pair. A dictionary is typed with braces {} and let's create our first dictionary."
   ]
  },
  {
   "cell_type": "code",
   "execution_count": 8,
   "metadata": {},
   "outputs": [],
   "source": [
    "myCat = {'size': 'fat', 'color': 'gray', 'disposition': 'loud'}"
   ]
  },
  {
   "cell_type": "markdown",
   "metadata": {},
   "source": [
    "This assigns a dictionary to the myCat variable. This dictionary's keys are 'size', 'color', and 'disposition'. The values for these keys are 'fat', 'gray', and 'loud'. You can access these values through their keys."
   ]
  },
  {
   "cell_type": "code",
   "execution_count": 9,
   "metadata": {},
   "outputs": [
    {
     "data": {
      "text/plain": [
       "'fat'"
      ]
     },
     "execution_count": 9,
     "metadata": {},
     "output_type": "execute_result"
    }
   ],
   "source": [
    "myCat['size']"
   ]
  },
  {
   "cell_type": "code",
   "execution_count": 14,
   "metadata": {},
   "outputs": [
    {
     "data": {
      "text/plain": [
       "'My cat has gray fur'"
      ]
     },
     "execution_count": 14,
     "metadata": {},
     "output_type": "execute_result"
    }
   ],
   "source": [
    "'My cat has ' +  myCat['color'] + ' fur' #space after has and before fur"
   ]
  },
  {
   "cell_type": "markdown",
   "metadata": {},
   "source": [
    "Dictionaries can still use integer values as keys, just like lists use integers for ndexes, but they do not have a start at 0 and can be any number. For example,"
   ]
  },
  {
   "cell_type": "code",
   "execution_count": 26,
   "metadata": {},
   "outputs": [
    {
     "name": "stdout",
     "output_type": "stream",
     "text": [
      "{12345: 'Luggage Combination', 42: 'The Answer'}\n"
     ]
    }
   ],
   "source": [
    "spam = {12345: 'Luggage Combination', 42: 'The Answer'}\n",
    "print(spam)"
   ]
  },
  {
   "cell_type": "code",
   "execution_count": 27,
   "metadata": {},
   "outputs": [
    {
     "name": "stdout",
     "output_type": "stream",
     "text": [
      "Luggage Combination\n",
      "The Answer\n"
     ]
    }
   ],
   "source": [
    "print(spam[12345]) # printing value of key 12345\n",
    "print(spam[42]) #printing value of the key 42"
   ]
  },
  {
   "cell_type": "code",
   "execution_count": null,
   "metadata": {},
   "outputs": [],
   "source": []
  }
 ],
 "metadata": {
  "kernelspec": {
   "display_name": "Python 3.6.5 ('base')",
   "language": "python",
   "name": "python3"
  },
  "language_info": {
   "codemirror_mode": {
    "name": "ipython",
    "version": 3
   },
   "file_extension": ".py",
   "mimetype": "text/x-python",
   "name": "python",
   "nbconvert_exporter": "python",
   "pygments_lexer": "ipython3",
   "version": "3.6.5"
  },
  "orig_nbformat": 4,
  "vscode": {
   "interpreter": {
    "hash": "db18b864c06bb4c766eaf8727fc40e902dd9fe58048d5157c1ac61709a982694"
   }
  }
 },
 "nbformat": 4,
 "nbformat_minor": 2
}
